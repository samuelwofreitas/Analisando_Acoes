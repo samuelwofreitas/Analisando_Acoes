{
  "nbformat": 4,
  "nbformat_minor": 0,
  "metadata": {
    "colab": {
      "name": "01-Analisando_Acoes.ipynb",
      "provenance": [],
      "collapsed_sections": [],
      "authorship_tag": "ABX9TyPR/ZBZU8VCQ37+RCA9M/Dh",
      "include_colab_link": true
    },
    "kernelspec": {
      "display_name": "Python 3",
      "name": "python3"
    },
    "language_info": {
      "name": "python"
    }
  },
  "cells": [
    {
      "cell_type": "markdown",
      "metadata": {
        "id": "view-in-github",
        "colab_type": "text"
      },
      "source": [
        "<a href=\"https://colab.research.google.com/github/samuelwofreitas/Analisando_Acoes/blob/main/01_Analisando_Acoes.ipynb\" target=\"_parent\"><img src=\"https://colab.research.google.com/assets/colab-badge.svg\" alt=\"Open In Colab\"/></a>"
      ]
    },
    {
      "cell_type": "markdown",
      "metadata": {
        "id": "-mrHHgpXbU_E"
      },
      "source": [
        "#importação\n",
        "\n"
      ]
    },
    {
      "cell_type": "code",
      "metadata": {
        "id": "tKjrqH5e486K"
      },
      "source": [
        "import numpy as np\n",
        "import pandas as pd\n",
        "import matplotlib.pyplot as plt\n",
        "import pandas_datareader.data as web\n",
        "\n",
        "!pip install yfinance --upgrade --no-cache-dir\n",
        "import yfinance as yf\n",
        "yf.pdr_override()\n"
      ],
      "execution_count": null,
      "outputs": []
    },
    {
      "cell_type": "code",
      "metadata": {
        "id": "xTlpXr7l7mhW"
      },
      "source": [
        "ibov = web.get_data_yahoo('^BVSP')"
      ],
      "execution_count": null,
      "outputs": []
    },
    {
      "cell_type": "code",
      "metadata": {
        "id": "0YH8APhrSxLR"
      },
      "source": [
        "ibov.head()"
      ],
      "execution_count": null,
      "outputs": []
    },
    {
      "cell_type": "code",
      "metadata": {
        "id": "G-IFWDq7TNzk"
      },
      "source": [
        "ibov.tail()"
      ],
      "execution_count": null,
      "outputs": []
    },
    {
      "cell_type": "code",
      "metadata": {
        "id": "vJ_uhZuHTbQ8"
      },
      "source": [
        "ibov[\"Close\"].plot(figsize=(22,8), label=\"IBOV\")\n",
        "ibov[\"Close\"].rolling(21).mean().plot(label=\"MM21\")\n",
        "ibov[\"Close\"].rolling(200).mean().plot(label=\"MM200\")\n",
        "plt.legend()"
      ],
      "execution_count": null,
      "outputs": []
    }
  ]
}